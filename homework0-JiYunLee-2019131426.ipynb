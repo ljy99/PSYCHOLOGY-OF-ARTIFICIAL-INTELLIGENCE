{
 "cells": [
  {
   "cell_type": "code",
   "execution_count": 14,
   "id": "d5fd7510",
   "metadata": {
    "scrolled": true
   },
   "outputs": [
    {
     "name": "stdout",
     "output_type": "stream",
     "text": [
      "숫자와 연산기호를 입력하시오( 예) 1,2,+ ): 4,5,6\n",
      "다시입력시오.\n",
      "None\n"
     ]
    }
   ],
   "source": [
    "#1\n",
    "\n",
    "def cal(a,b,c): #세 개의 변수를 받기 위해 a, b, c를 입력해 줍니다. #기호에 맞춰 각 연산자를 이용하여 함수를 정의해 줍니다.\n",
    "    if c == '+': \n",
    "        return a + b\n",
    "    elif c == '-':\n",
    "        return a - b\n",
    "    elif c == '/':\n",
    "        return a//b, a%b #나누기는 몫과 나머지를 각각 적어줍니다.\n",
    "    elif c =='*':\n",
    "        return a*b\n",
    "    else: \n",
    "        print(\"다시입력시오.\") #연산기호를 잘못 입력한 경우를 대비해 준비해 줍니다. \n",
    "         \n",
    "    \n",
    "n1, n2, f = input(\"숫자와 연산기호를 입력하시오( 예) 1,2,+ ): \").split(',') \n",
    "\n",
    "print(cal(int(n1),int(n2),f)) #입력받은 숫자가 문자로 저장되어 있기에 다시 int를 이용하여 숫자로 변환해 줍니다."
   ]
  },
  {
   "cell_type": "code",
   "execution_count": 23,
   "id": "9186ff49",
   "metadata": {
    "scrolled": true
   },
   "outputs": [
    {
     "name": "stdout",
     "output_type": "stream",
     "text": [
      "[[4 3 5 4 1 8 5 0 4 3]\n",
      " [4 9 3 6 1 8 9 6 2 2]\n",
      " [1 2 9 4 4 4 1 9 2 7]\n",
      " [7 2 9 8 1 6 1 8 0 5]\n",
      " [4 1 0 4 0 9 1 2 3 1]\n",
      " [9 3 6 0 8 9 3 8 5 7]\n",
      " [9 6 9 6 8 2 3 4 9 2]\n",
      " [3 8 5 5 8 6 5 6 5 5]\n",
      " [5 9 0 5 2 6 7 9 5 5]\n",
      " [9 5 0 0 5 4 4 1 8 4]]\n",
      "(array([0, 1, 2, 3, 4, 5, 6, 7, 8, 9]), array([ 8, 10,  9,  8, 13, 15,  9,  4, 10, 14], dtype=int64))\n",
      "   0   1  2  3   4   5  6  7   8   9\n",
      "0  8  10  9  8  13  15  9  4  10  14\n"
     ]
    },
    {
     "data": {
      "text/plain": [
       "(array([1., 0., 0., 2., 2., 2., 0., 0., 1., 2.]),\n",
       " array([ 4. ,  5.1,  6.2,  7.3,  8.4,  9.5, 10.6, 11.7, 12.8, 13.9, 15. ]),\n",
       " <BarContainer object of 10 artists>)"
      ]
     },
     "execution_count": 23,
     "metadata": {},
     "output_type": "execute_result"
    },
    {
     "data": {
      "image/png": "[encoded data removed]",
      "text/plain": [
       "<Figure size 432x288 with 1 Axes>"
      ]
     },
     "metadata": {
      "needs_background": "light"
     },
     "output_type": "display_data"
    }
   ],
   "source": [
    "#2\n",
    "\n",
    "#numpy, pandas, matplotlib를 사용하기 위해 각각 import 해줍니다.\n",
    "\n",
    "import numpy as np\n",
    "import pandas as pd\n",
    "import matplotlib.pyplot as plt\n",
    "\n",
    "#우선 0~9 사이의 정수를 랜덤으로 배정하기 위해 random.randint를 이용한 뒤 사이즈를 정해줍니다.\n",
    "array = np.random.randint(0,10,(10,10)) \n",
    "\n",
    "#각 숫자의 횟수를 세기 위해 unique를 사용하는데, 이때 등장 횟수를 알기 위해 return_counts를 이용합니다.\n",
    "fre = np.unique(array,return_counts = True)\n",
    "\n",
    "#앞서 얻은 데이터를 dataframe으로 변환해줍니다. 이때, 앞서 얻은 데이터에서 횟수부분만 가져와서 만들어줍니다.\n",
    "df = pd.DataFrame(fre[1])\n",
    "\n",
    "print(array)\n",
    "print(fre)\n",
    "print(df.T) #dataframe을 가로로 길게 보여주기 위해 .T를 덧붙여서 print해 줍니다.\n",
    "\n",
    "plt.hist(df) #앞서 구한 데이터를 이용하여 히스토그램을 그려줍니다."
   ]
  },
  {
   "cell_type": "code",
   "execution_count": 22,
   "id": "2d7fb96b",
   "metadata": {},
   "outputs": [
    {
     "name": "stdout",
     "output_type": "stream",
     "text": [
      "[0, 1, 1, 4, 5, 5, 8, 9, 9, 10, 14, 14, 15, 16, 16, 16, 17, 18, 19, 19, 21, 21, 22, 22, 24, 25, 27, 27, 28, 29, 30, 30, 31, 34, 35, 36, 37, 38, 39, 40, 40, 41, 41, 43, 43, 44, 45, 45, 46, 46, 46, 47, 51, 52, 52, 53, 53, 54, 55, 55, 56, 57, 58, 59, 60, 60, 60, 60, 62, 62, 63, 65, 65, 66, 68, 69, 71, 71, 71, 72, 72, 73, 73, 73, 74, 74, 74, 77, 78, 78, 79, 81, 82, 84, 84, 84, 85, 86, 87, 87, 87, 87, 87, 88, 88, 88, 88, 90, 91, 93, 93, 93, 94, 95, 97, 97, 98, 98, 101, 102, 104, 105, 108, 110, 113, 114, 116, 117, 118, 118, 118, 119, 120, 121, 122, 123, 124, 125, 127, 128, 131, 132, 133, 134, 134, 135, 137, 137, 137, 138, 138, 140, 140, 142, 142, 142, 142, 143, 145, 146, 147, 148, 148, 148, 149, 151, 151, 155, 156, 157, 159, 159, 162, 162, 162, 164, 164, 165, 167, 167, 167, 168, 169, 171, 173, 174, 174, 176, 178, 178, 178, 182, 183, 183, 184, 184, 184, 184, 184, 185, 187, 188, 189, 190, 191, 191, 194, 195, 197, 198, 198, 198, 200, 200, 205, 206, 207, 208, 208, 209, 210, 211, 211, 211, 211, 213, 213, 214, 214, 216, 218, 218, 219, 220, 221, 221, 221, 223, 224, 225, 225, 225, 225, 228, 229, 229, 229, 229, 229, 230, 232, 232, 232, 234, 237, 238, 239, 242, 242, 245, 246, 248, 249, 249, 252, 253, 256, 256, 257, 257, 259, 259, 259, 260, 260, 261, 261, 261, 262, 262, 263, 266, 266, 267, 267, 268, 270, 270, 271, 271, 271, 271, 273, 273, 273, 276, 276, 276, 278, 279, 279, 279, 279, 280, 281, 282, 284, 285, 285, 285, 287, 289, 290, 291, 293, 293, 294, 294, 295, 295, 296, 298, 300, 300, 300, 300, 301, 301, 302, 304, 305, 306, 307, 309, 309, 309, 311, 311, 311, 313, 313, 313, 314, 315, 316, 320, 322, 322, 324, 325, 325, 327, 327, 329, 330, 331, 331, 331, 332, 333, 333, 334, 334, 335, 336, 338, 338, 338, 339, 340, 340, 341, 341, 344, 344, 345, 345, 345, 346, 346, 347, 347, 347, 348, 349, 349, 350, 352, 352, 353, 355, 355, 356, 357, 358, 358, 359, 360, 360, 360, 361, 361, 361, 362, 362, 362, 363, 364, 368, 371, 374, 374, 374, 375, 375, 376, 376, 377, 377, 377, 378, 379, 380, 380, 380, 381, 385, 386, 387, 387, 388, 389, 390, 392, 392, 392, 393, 393, 394, 395, 395, 396, 396, 396, 399, 402, 403, 403, 404, 408, 408, 409, 411, 413, 414, 415, 416, 416, 417, 417, 417, 418, 422, 423, 427, 428, 428, 431, 431, 432, 432, 433, 439, 439, 440, 442, 443, 447, 448, 448, 449, 449, 450, 450, 451, 452, 454, 456, 457, 459, 459, 461, 462, 462, 464, 465, 467, 471, 473, 473, 480, 480, 480, 482, 483, 486, 491, 491, 493, 495, 497, 497, 497, 498, 500, 500, 501, 502, 502, 503, 503, 505, 510, 510, 510, 512, 515, 515, 516, 517, 517, 518, 518, 519, 520, 521, 523, 528, 528, 529, 530, 532, 533, 534, 535, 539, 540, 541, 542, 542, 544, 550, 550, 551, 552, 554, 557, 558, 558, 559, 560, 565, 567, 568, 568, 570, 571, 571, 571, 571, 572, 574, 574, 576, 578, 578, 579, 580, 582, 582, 585, 585, 585, 585, 587, 588, 589, 590, 591, 592, 593, 593, 593, 594, 595, 596, 596, 596, 596, 598, 598, 599, 600, 601, 601, 601, 601, 603, 603, 606, 607, 607, 612, 614, 616, 616, 618, 619, 622, 622, 624, 625, 626, 626, 627, 627, 628, 628, 630, 634, 634, 634, 637, 637, 637, 641, 641, 643, 643, 643, 644, 644, 644, 644, 645, 646, 646, 646, 646, 646, 647, 647, 648, 650, 651, 651, 652, 653, 654, 654, 656, 657, 657, 657, 658, 658, 658, 660, 662, 663, 663, 663, 665, 666, 667, 667, 668, 670, 671, 675, 675, 675, 676, 679, 679, 680, 680, 682, 683, 684, 685, 685, 686, 686, 687, 687, 688, 689, 689, 691, 692, 692, 692, 692, 693, 694, 696, 697, 697, 698, 699, 700, 700, 701, 701, 703, 703, 703, 703, 706, 706, 708, 709, 710, 712, 712, 712, 713, 714, 714, 715, 721, 721, 722, 723, 724, 726, 727, 727, 727, 731, 731, 733, 733, 735, 736, 737, 739, 739, 742, 742, 745, 745, 748, 748, 748, 748, 748, 749, 749, 749, 751, 754, 755, 755, 756, 756, 756, 756, 757, 758, 758, 758, 759, 760, 763, 763, 764, 769, 769, 769, 770, 770, 771, 771, 772, 773, 774, 774, 774, 775, 776, 777, 777, 779, 779, 784, 785, 785, 786, 788, 789, 789, 794, 794, 795, 796, 796, 797, 798, 798, 798, 799, 802, 803, 803, 804, 806, 808, 808, 808, 809, 811, 811, 812, 812, 813, 813, 813, 814, 816, 818, 819, 819, 819, 819, 821, 823, 824, 824, 825, 826, 828, 828, 829, 829, 830, 832, 832, 832, 833, 834, 838, 840, 842, 843, 845, 846, 848, 849, 851, 851, 853, 854, 856, 856, 857, 860, 862, 863, 864, 864, 865, 867, 867, 870, 870, 870, 871, 871, 872, 872, 873, 875, 877, 882, 882, 882, 883, 883, 884, 884, 885, 885, 885, 886, 888, 890, 891, 892, 894, 894, 895, 895, 896, 897, 898, 898, 899, 899, 903, 905, 907, 908, 909, 909, 911, 912, 913, 914, 918, 919, 920, 921, 923, 925, 927, 928, 929, 930, 930, 934, 935, 935, 936, 936, 938, 943, 943, 945, 946, 947, 948, 949, 951, 951, 953, 953, 954, 955, 956, 957, 958, 959, 959, 961, 961, 961, 962, 963, 963, 963, 966, 968, 969, 969, 971, 974, 974, 974, 975, 975, 976, 977, 979, 980, 981, 981, 983, 983, 984, 984, 985, 986, 986, 987, 987, 988, 989, 990, 990, 990, 994, 994, 996, 997, 997, 999, 999, 1000]\n"
     ]
    }
   ],
   "source": [
    "#3\n",
    "\n",
    "import random\n",
    "\n",
    "#우선 1000개의 난수를 생성하기 위해 for문을 이용하여 리스트를 만들어줍니다. \n",
    "num = [random.randint(0,1000) for x in range(1000)] \n",
    "   \n",
    "for i in range(len(num)): #리스트의 항목 수 만큼 반복을 해 숫자들을 비교해 줄 것입니다. \n",
    "    for n in range(1, len(num)-i): #각 숫자를 앞의 숫자와 비교해주기 위해 n의 범위를 1부터 잡아줍니다. \n",
    "                                   #또한 이미 반복한 횟수 만큼 오른쪽부터 완성되었기에 매번 끝까지 반복해 줄 필요없습니다. \n",
    "                                   #따라서 이미 한 반복 횟수만큼은 덜 해주도록 len(num)에서 빼줍니다.\n",
    "        if num[n] <= num[n-1]:     \n",
    "            num[n],num[n-1] = num[n-1],num[n] #앞의 숫자와 비교해줘서 앞의 숫자가 더 크다면 위치를 바꿔줍니다. 그렇지 않을 경우는 그대로 둡니다.\n",
    "            \n",
    "print(num)"
   ]
  },
  {
   "cell_type": "code",
   "execution_count": null,
   "id": "0f80dcee",
   "metadata": {},
   "outputs": [],
   "source": []
  }
 ],
 "metadata": {
  "kernelspec": {
   "display_name": "Python 3 (ipykernel)",
   "language": "python",
   "name": "python3"
  },
  "language_info": {
   "codemirror_mode": {
    "name": "ipython",
    "version": 3
   },
   "file_extension": ".py",
   "mimetype": "text/x-python",
   "name": "python",
   "nbconvert_exporter": "python",
   "pygments_lexer": "ipython3",
   "version": "3.9.7"
  }
 },
 "nbformat": 4,
 "nbformat_minor": 5
}
